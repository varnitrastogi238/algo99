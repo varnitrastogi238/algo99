{
 "cells": [
  {
   "cell_type": "code",
   "execution_count": null,
   "metadata": {},
   "outputs": [],
   "source": [
    "from smartapi import SmartConnect \n",
    "obj=SmartConnect(api_key=\"uWbpZyYm\")\n",
    "data = obj.generateSession(\"S776051\",\"Madhya246###\")\n",
    "refreshToken= data['data']['refreshToken']\n",
    "feedToken=obj.getfeedToken()\n",
    "userProfile= obj.getProfile(refreshToken)"
   ]
  },
  {
   "cell_type": "code",
   "execution_count": 1,
   "metadata": {},
   "outputs": [],
   "source": [
    "import ccxt\n",
    "\n",
    "client=ccxt.kucoin({\"apiKey\":\"628f9f8a43ddbc0001e243d2\",\"secret\":\"6c138913-3815-486e-bb97-c6c38c164af1\",\"password\":\"@Support123\"})"
   ]
  },
  {
   "cell_type": "code",
   "execution_count": null,
   "metadata": {},
   "outputs": [],
   "source": [
    "client.create_order(\"BTC-USDT\",\"market\",\"buy\",float(1))"
   ]
  },
  {
   "cell_type": "code",
   "execution_count": null,
   "metadata": {},
   "outputs": [],
   "source": [
    "#     import numpy as np\n",
    "import pickle\n",
    "\n",
    "class Foo():\n",
    "    @property\n",
    "    def module(self):\n",
    "        return np\n",
    "\n",
    "foo = Foo()\n",
    "with open('test.out', 'wb') as f:\n",
    "    pickle.dump(foo, f)"
   ]
  },
  {
   "cell_type": "code",
   "execution_count": null,
   "metadata": {},
   "outputs": [],
   "source": []
  },
  {
   "cell_type": "code",
   "execution_count": null,
   "metadata": {},
   "outputs": [],
   "source": [
    "import pickle \n",
    "\n",
    "filehandler = open(\"filename.obj\", 'w') \n",
    "pickle.dump(obj, filehandler)"
   ]
  },
  {
   "cell_type": "code",
   "execution_count": 1,
   "metadata": {},
   "outputs": [
    {
     "name": "stdout",
     "output_type": "stream",
     "text": [
      " 11:55:06 | Logged in!!\n"
     ]
    }
   ],
   "source": [
    "from py5paisa import FivePaisaClient\n",
    "\n",
    "config={\n",
    "    \"APP_NAME\":\"5P58388098\",\n",
    "    \"APP_SOURCE\":\"6287\",\n",
    "    \"USER_ID\":\"y4y151WvdMC\",\n",
    "    \"PASSWORD\":\"M6XzOUlYnql\",\n",
    "    \"USER_KEY\":\"dBZmHU5HzDrElCz3ZZJv2BOFoZ1r3pLe\",\n",
    "    \"ENCRYPTION_KEY\":\"ShLSu3vEVWSsmYUgoELZdiHLitK62FPD\"\n",
    "    }\n",
    "\n",
    "client = FivePaisaClient(email=\"sudhanshu8833@gmail.com\", passwd=\"Madhya246##\", dob=\"20010626\",cred=config)\n",
    "client.login()"
   ]
  },
  {
   "cell_type": "code",
   "execution_count": null,
   "metadata": {},
   "outputs": [],
   "source": []
  },
  {
   "cell_type": "code",
   "execution_count": 1,
   "metadata": {},
   "outputs": [],
   "source": [
    "from py5paisa.order import Order, OrderType, AHPlaced\n",
    "test_order = Order(order_type='B',exchange='N',exchange_segment='C', scrip_code=1660, quantity=1, price=205,is_intraday=False, ahplaced='Y',remote_order_id=\"tag\")"
   ]
  },
  {
   "cell_type": "code",
   "execution_count": 5,
   "metadata": {},
   "outputs": [
    {
     "name": "stdout",
     "output_type": "stream",
     "text": [
      " 11:56:08 | please enter valid input\n"
     ]
    }
   ],
   "source": [
    "client.place_order(OrderType='B',Exchange='N',ExchangeType='C', ScripCode = 1666, Qty=1, Price=0,iOrderValidity=0)\n",
    "\n"
   ]
  },
  {
   "cell_type": "code",
   "execution_count": 37,
   "metadata": {},
   "outputs": [
    {
     "name": "stdout",
     "output_type": "stream",
     "text": [
      " 11:09:27 | No Trades found for this Client.\n"
     ]
    },
    {
     "data": {
      "text/plain": "{'Message': 'No Trades found for this Client.',\n 'Status': 1,\n 'TradeBookDetail': []}"
     },
     "execution_count": 37,
     "metadata": {},
     "output_type": "execute_result"
    }
   ],
   "source": [
    "client.get_tradebook()"
   ]
  },
  {
   "cell_type": "code",
   "execution_count": null,
   "metadata": {},
   "outputs": [],
   "source": []
  }
 ],
 "metadata": {
  "kernelspec": {
   "display_name": "Python 3.9.5 64-bit",
   "name": "python395jvsc74a57bd07812ea015bdcee6f23a998adcdd2ef97c151c0c241b7b7070987d9313e41299d"
  },
  "language_info": {
   "codemirror_mode": {
    "name": "ipython",
    "version": 3
   },
   "file_extension": ".py",
   "mimetype": "text/x-python",
   "name": "python",
   "nbconvert_exporter": "python",
   "pygments_lexer": "ipython3",
   "version": "3.9.5"
  },
  "metadata": {
   "interpreter": {
    "hash": "7812ea015bdcee6f23a998adcdd2ef97c151c0c241b7b7070987d9313e41299d"
   }
  },
  "orig_nbformat": 2
 },
 "nbformat": 4,
 "nbformat_minor": 2
}